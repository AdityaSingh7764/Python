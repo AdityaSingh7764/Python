{
 "cells": [
  {
   "cell_type": "markdown",
   "id": "c2b78f42-b00f-430a-b6f7-2c6fc581ba51",
   "metadata": {},
   "source": [
    "# Basic of Python\n",
    "\n",
    "- Various Datatypes in Python\n",
    "- Variable\n",
    "- Variables Assigment\n",
    "- Print Formatting"
   ]
  },
  {
   "cell_type": "markdown",
   "id": "aef99b3d-a05a-430a-807f-1ea69586e6f5",
   "metadata": {},
   "source": [
    "## Various Datatypes in Python"
   ]
  },
  {
   "cell_type": "markdown",
   "id": "a8893daf-9ffc-4f49-9f0d-4dfd35592a1d",
   "metadata": {},
   "source": [
    "#### Numbers"
   ]
  },
  {
   "cell_type": "code",
   "execution_count": 12,
   "id": "c91023b3-01da-4c4c-aacd-56bdfe233773",
   "metadata": {},
   "outputs": [
    {
     "data": {
      "text/plain": [
       "2"
      ]
     },
     "execution_count": 12,
     "metadata": {},
     "output_type": "execute_result"
    }
   ],
   "source": [
    "1+1"
   ]
  },
  {
   "cell_type": "markdown",
   "id": "e39a1936-9312-4be9-8a7d-9eb50a671564",
   "metadata": {},
   "source": [
    "5*7"
   ]
  },
  {
   "cell_type": "code",
   "execution_count": 28,
   "id": "eb9bdecf-ac6a-4ec0-9b0a-d238d23532f3",
   "metadata": {},
   "outputs": [
    {
     "data": {
      "text/plain": [
       "5.0"
      ]
     },
     "execution_count": 28,
     "metadata": {},
     "output_type": "execute_result"
    }
   ],
   "source": [
    "10/2"
   ]
  },
  {
   "cell_type": "code",
   "execution_count": 30,
   "id": "8afe5684-acca-4451-9a39-7cb990372d12",
   "metadata": {},
   "outputs": [
    {
     "data": {
      "text/plain": [
       "0"
      ]
     },
     "execution_count": 30,
     "metadata": {},
     "output_type": "execute_result"
    }
   ],
   "source": [
    "10%2"
   ]
  },
  {
   "cell_type": "code",
   "execution_count": 32,
   "id": "ac46461d-7ab5-4853-9c50-da0be8ff8159",
   "metadata": {},
   "outputs": [
    {
     "data": {
      "text/plain": [
       "100"
      ]
     },
     "execution_count": 32,
     "metadata": {},
     "output_type": "execute_result"
    }
   ],
   "source": [
    "10**2"
   ]
  },
  {
   "cell_type": "code",
   "execution_count": 34,
   "id": "fb9017e2-467d-4030-b933-3c027fcabfa9",
   "metadata": {},
   "outputs": [
    {
     "data": {
      "text/plain": [
       "int"
      ]
     },
     "execution_count": 34,
     "metadata": {},
     "output_type": "execute_result"
    }
   ],
   "source": [
    "type(1)"
   ]
  },
  {
   "cell_type": "code",
   "execution_count": 36,
   "id": "024442bb-24e2-4d12-b5e4-8c6dfcace188",
   "metadata": {},
   "outputs": [
    {
     "data": {
      "text/plain": [
       "float"
      ]
     },
     "execution_count": 36,
     "metadata": {},
     "output_type": "execute_result"
    }
   ],
   "source": [
    "type(5.0)"
   ]
  },
  {
   "cell_type": "code",
   "execution_count": 38,
   "id": "334bfaf0-5d00-4a73-9899-cd59e3f43bdb",
   "metadata": {},
   "outputs": [
    {
     "data": {
      "text/plain": [
       "str"
      ]
     },
     "execution_count": 38,
     "metadata": {},
     "output_type": "execute_result"
    }
   ],
   "source": [
    "type('hi')"
   ]
  },
  {
   "cell_type": "code",
   "execution_count": 40,
   "id": "eb23f34e-ee84-4c9d-add5-53bafe616307",
   "metadata": {},
   "outputs": [
    {
     "data": {
      "text/plain": [
       "bool"
      ]
     },
     "execution_count": 40,
     "metadata": {},
     "output_type": "execute_result"
    }
   ],
   "source": [
    "type(True)"
   ]
  },
  {
   "cell_type": "markdown",
   "id": "e2c0a4bc-c8f4-4c61-8f53-3806f0ade29e",
   "metadata": {},
   "source": [
    "#### String"
   ]
  },
  {
   "cell_type": "code",
   "execution_count": 44,
   "id": "396527c1-28ee-4118-84a2-57f2f0c2e613",
   "metadata": {},
   "outputs": [
    {
     "data": {
      "text/plain": [
       "'Hello'"
      ]
     },
     "execution_count": 44,
     "metadata": {},
     "output_type": "execute_result"
    }
   ],
   "source": [
    "'Hello'"
   ]
  },
  {
   "cell_type": "code",
   "execution_count": 46,
   "id": "77371cbf-103c-47ad-b70c-d800dd4174be",
   "metadata": {},
   "outputs": [
    {
     "data": {
      "text/plain": [
       "'How are you'"
      ]
     },
     "execution_count": 46,
     "metadata": {},
     "output_type": "execute_result"
    }
   ],
   "source": [
    "\"How are you\""
   ]
  },
  {
   "cell_type": "code",
   "execution_count": 48,
   "id": "9ba92af6-7e4b-4165-8078-d99f65c82973",
   "metadata": {},
   "outputs": [
    {
     "data": {
      "text/plain": [
       "str"
      ]
     },
     "execution_count": 48,
     "metadata": {},
     "output_type": "execute_result"
    }
   ],
   "source": [
    "type(\"How are you\")"
   ]
  },
  {
   "cell_type": "markdown",
   "id": "b7aa6662-14d7-454d-b871-268c321ae014",
   "metadata": {},
   "source": [
    "#### Assignment"
   ]
  },
  {
   "cell_type": "code",
   "execution_count": 52,
   "id": "c2d90919-5e13-4016-934b-8216539acfc1",
   "metadata": {},
   "outputs": [],
   "source": [
    "a=10\n",
    "b=20"
   ]
  },
  {
   "cell_type": "code",
   "execution_count": 58,
   "id": "41cb6d9b-90d5-4457-b518-c773271fdc32",
   "metadata": {},
   "outputs": [
    {
     "name": "stdout",
     "output_type": "stream",
     "text": [
      "30\n",
      "0.5\n",
      "200\n",
      "10\n",
      "200.5\n"
     ]
    }
   ],
   "source": [
    "print(a+b)\n",
    "print(a/b)\n",
    "print(a*b)\n",
    "print(a%b)\n",
    "print((a*b)+(a/b)) #BODMAS"
   ]
  },
  {
   "cell_type": "markdown",
   "id": "f3f23e70-f95c-4c42-a56b-2d3b2c98c8d7",
   "metadata": {},
   "source": [
    "#### Printing"
   ]
  },
  {
   "cell_type": "code",
   "execution_count": 61,
   "id": "bc7282ef-6eca-4a06-83b6-e6b5f5acea85",
   "metadata": {},
   "outputs": [
    {
     "name": "stdout",
     "output_type": "stream",
     "text": [
      "Hello\n"
     ]
    }
   ],
   "source": [
    "print(\"Hello\")"
   ]
  },
  {
   "cell_type": "code",
   "execution_count": 63,
   "id": "6e67e23b-b50a-4d6e-a352-3f1cef5e9c71",
   "metadata": {},
   "outputs": [],
   "source": [
    "first_name=\"Aditya\"\n",
    "last_name=\"Singh\""
   ]
  },
  {
   "cell_type": "code",
   "execution_count": 65,
   "id": "91541bca-b647-48ab-aa8c-8576210041a0",
   "metadata": {},
   "outputs": [
    {
     "name": "stdout",
     "output_type": "stream",
     "text": [
      "My first name is Aditya and last name is Singh.\n"
     ]
    }
   ],
   "source": [
    "print(\"My first name is {} and last name is {}.\".format(first_name,last_name))"
   ]
  },
  {
   "cell_type": "code",
   "execution_count": 67,
   "id": "d921b793-5822-4eb9-83d4-21d4e3c7191a",
   "metadata": {},
   "outputs": [
    {
     "name": "stdout",
     "output_type": "stream",
     "text": [
      "My first name is Aditya and last name is Singh.\n"
     ]
    }
   ],
   "source": [
    "print(\"My first name is {first} and last name is {last}.\".format(first=first_name,last=last_name))"
   ]
  },
  {
   "cell_type": "code",
   "execution_count": 69,
   "id": "bc4f762e-378b-4776-a4ab-2729245d6bcc",
   "metadata": {},
   "outputs": [
    {
     "data": {
      "text/plain": [
       "6"
      ]
     },
     "execution_count": 69,
     "metadata": {},
     "output_type": "execute_result"
    }
   ],
   "source": [
    "len(first_name)"
   ]
  },
  {
   "cell_type": "code",
   "execution_count": 71,
   "id": "1614eaca-d8ee-4b85-aa20-4dc87cea83e4",
   "metadata": {},
   "outputs": [
    {
     "data": {
      "text/plain": [
       "str"
      ]
     },
     "execution_count": 71,
     "metadata": {},
     "output_type": "execute_result"
    }
   ],
   "source": [
    "type(first_name)"
   ]
  },
  {
   "cell_type": "code",
   "execution_count": 73,
   "id": "48c4a7ef-b89e-4097-b32b-4526cbf11772",
   "metadata": {},
   "outputs": [
    {
     "data": {
      "text/plain": [
       "list"
      ]
     },
     "execution_count": 73,
     "metadata": {},
     "output_type": "execute_result"
    }
   ],
   "source": [
    "type([1,6,3,'2','Hello'])"
   ]
  },
  {
   "cell_type": "code",
   "execution_count": null,
   "id": "b39a2037-e4c4-487d-836d-3976a49fbf80",
   "metadata": {},
   "outputs": [],
   "source": []
  }
 ],
 "metadata": {
  "kernelspec": {
   "display_name": "Python 3 (ipykernel)",
   "language": "python",
   "name": "python3"
  },
  "language_info": {
   "codemirror_mode": {
    "name": "ipython",
    "version": 3
   },
   "file_extension": ".py",
   "mimetype": "text/x-python",
   "name": "python",
   "nbconvert_exporter": "python",
   "pygments_lexer": "ipython3",
   "version": "3.12.4"
  }
 },
 "nbformat": 4,
 "nbformat_minor": 5
}

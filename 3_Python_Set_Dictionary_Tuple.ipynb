{
 "cells": [
  {
   "cell_type": "markdown",
   "id": "e8f618e2-d78f-4b44-81c9-1313275c3baa",
   "metadata": {},
   "source": [
    "# Sets"
   ]
  },
  {
   "cell_type": "markdown",
   "id": "7ecc193c-4c19-4928-a680-2e3fda12502c",
   "metadata": {},
   "source": [
    "A Set is an unordered collection data type that is iterable, mutable, and has no duplicates elements. "
   ]
  },
  {
   "cell_type": "code",
   "execution_count": 45,
   "id": "a47d2ee2-6c68-4eff-8f49-f7edd3327a25",
   "metadata": {},
   "outputs": [
    {
     "name": "stdout",
     "output_type": "stream",
     "text": [
      "set()\n",
      "<class 'set'>\n"
     ]
    }
   ],
   "source": [
    "set_v=set()\n",
    "print(set_v)\n",
    "print(type(set_v))"
   ]
  },
  {
   "cell_type": "code",
   "execution_count": 46,
   "id": "47f715b8-ec15-42ee-bc15-a88c844fe0ff",
   "metadata": {},
   "outputs": [
    {
     "name": "stdout",
     "output_type": "stream",
     "text": [
      "{'Orange', 'Kiwi', 'Grape', 'Apple'}\n",
      "<class 'set'>\n"
     ]
    }
   ],
   "source": [
    "set_v={\"Apple\",\"Orange\",\"Grape\",\"Kiwi\"}\n",
    "print(set_v)\n",
    "print(type(set_v))"
   ]
  },
  {
   "cell_type": "code",
   "execution_count": 47,
   "id": "9f305c8f-0c3f-4997-bee3-066cb928d3f7",
   "metadata": {},
   "outputs": [
    {
     "name": "stdout",
     "output_type": "stream",
     "text": [
      "{'Orange', 'Kiwi', 'Grape', 'Apple'}\n"
     ]
    }
   ],
   "source": [
    "# no duplicates\n",
    "set_v={\"Apple\",\"Orange\",\"Grape\",\"Kiwi\",\"Apple\"}\n",
    "print(set_v)"
   ]
  },
  {
   "cell_type": "markdown",
   "id": "644a82c0-ce9c-4b2e-8433-cad4f4dc93be",
   "metadata": {},
   "source": [
    "### Inbuilt Functions"
   ]
  },
  {
   "cell_type": "code",
   "execution_count": 49,
   "id": "02052966-ba32-473e-b477-5a4176fe1551",
   "metadata": {},
   "outputs": [
    {
     "data": {
      "text/plain": [
       "{'Apple', 'Grape', 'Kiwi', 'Orange', 'Pear'}"
      ]
     },
     "execution_count": 49,
     "metadata": {},
     "output_type": "execute_result"
    }
   ],
   "source": [
    "set_v.add(\"Pear\")\n",
    "set_v"
   ]
  },
  {
   "cell_type": "code",
   "execution_count": 50,
   "id": "f3f73bf2-4a14-476b-bf56-6c82742fc1d7",
   "metadata": {},
   "outputs": [
    {
     "data": {
      "text/plain": [
       "{'Banana', 'Kiwi', 'Pineapple'}"
      ]
     },
     "execution_count": 50,
     "metadata": {},
     "output_type": "execute_result"
    }
   ],
   "source": [
    "# Difference\n",
    "set_v1={\"Apple\",\"Grape\",\"Pear\",\"Orange\"}\n",
    "set_v2={\"Banana\",\"Apple\",\"Pineapple\",\"Kiwi\",\"Pear\"}\n",
    "set_v2.difference(set_v1)"
   ]
  },
  {
   "cell_type": "code",
   "execution_count": 51,
   "id": "eaee38fa-2d66-43a7-a10e-e82942a3660b",
   "metadata": {},
   "outputs": [
    {
     "name": "stdout",
     "output_type": "stream",
     "text": [
      "{'Pear', 'Kiwi', 'Banana', 'Apple', 'Pineapple'}\n"
     ]
    }
   ],
   "source": [
    "print(set_v2)"
   ]
  },
  {
   "cell_type": "code",
   "execution_count": 52,
   "id": "2029b375-a11b-4b14-b1c3-6a3d36c5a49f",
   "metadata": {},
   "outputs": [],
   "source": [
    "# Difference update\n",
    "set_v2.difference_update(set_v1)"
   ]
  },
  {
   "cell_type": "code",
   "execution_count": 53,
   "id": "b9e26af4-3e18-490f-a616-44705200f88c",
   "metadata": {},
   "outputs": [
    {
     "name": "stdout",
     "output_type": "stream",
     "text": [
      "{'Kiwi', 'Banana', 'Pineapple'}\n"
     ]
    }
   ],
   "source": [
    "print(set_v2)"
   ]
  },
  {
   "cell_type": "code",
   "execution_count": 65,
   "id": "4eb543e6-f835-40d7-ae63-ca4d7af806fc",
   "metadata": {},
   "outputs": [
    {
     "data": {
      "text/plain": [
       "{'Apple', 'Pear'}"
      ]
     },
     "execution_count": 65,
     "metadata": {},
     "output_type": "execute_result"
    }
   ],
   "source": [
    "# Intersection\n",
    "set_v1={\"Apple\",\"Grape\",\"Pear\",\"Orange\"}\n",
    "set_v2={\"Banana\",\"Apple\",\"Pineapple\",\"Kiwi\",\"Pear\"}\n",
    "set_v2.intersection(set_v1)"
   ]
  },
  {
   "cell_type": "code",
   "execution_count": 69,
   "id": "6d1f71b2-6942-403d-92fb-baba9ef61c99",
   "metadata": {},
   "outputs": [
    {
     "name": "stdout",
     "output_type": "stream",
     "text": [
      "{'Pear', 'Apple'}\n"
     ]
    }
   ],
   "source": [
    "set_v1={\"Apple\",\"Grape\",\"Pear\",\"Orange\"}\n",
    "set_v2={\"Banana\",\"Apple\",\"Pineapple\",\"Kiwi\",\"Pear\"}\n",
    "set_v2.intersection_update(set_v1)\n",
    "print(set_v2)"
   ]
  },
  {
   "cell_type": "markdown",
   "id": "a0959bac-ab39-4027-a825-9c9cab789c24",
   "metadata": {},
   "source": [
    "# Dictionaries"
   ]
  },
  {
   "cell_type": "markdown",
   "id": "fa71f3c7-f5af-4588-8679-2b6d79f1c514",
   "metadata": {},
   "source": [
    "A dictionary is a collection which is unordered, changeable and indexed. In Python dictionary are written with curly brackets, and they have keys and values."
   ]
  },
  {
   "cell_type": "code",
   "execution_count": 81,
   "id": "d38272aa-3482-4727-ae7d-1099e9e0914e",
   "metadata": {},
   "outputs": [
    {
     "data": {
      "text/plain": [
       "dict"
      ]
     },
     "execution_count": 81,
     "metadata": {},
     "output_type": "execute_result"
    }
   ],
   "source": [
    "dic={}\n",
    "type(dic)"
   ]
  },
  {
   "cell_type": "code",
   "execution_count": 85,
   "id": "1d4a92ee-37a2-4a7c-a65f-c95304bc8bb9",
   "metadata": {},
   "outputs": [
    {
     "name": "stdout",
     "output_type": "stream",
     "text": [
      "{'1': 'Apple', '2': 'Banana', '3': 'Fig', '4': 'Orange', '5': 'Pear'}\n"
     ]
    },
    {
     "data": {
      "text/plain": [
       "dict"
      ]
     },
     "execution_count": 85,
     "metadata": {},
     "output_type": "execute_result"
    }
   ],
   "source": [
    "dic={\"1\":\"Apple\",\"2\":\"Banana\",\"3\":\"Fig\",\"4\":\"Orange\",\"5\":\"Pear\"}\n",
    "print(dic)\n",
    "type(dic)"
   ]
  },
  {
   "cell_type": "code",
   "execution_count": 87,
   "id": "dfd88040-5429-4dad-aff1-32118df15c95",
   "metadata": {},
   "outputs": [
    {
     "data": {
      "text/plain": [
       "'Banana'"
      ]
     },
     "execution_count": 87,
     "metadata": {},
     "output_type": "execute_result"
    }
   ],
   "source": [
    "dic[\"2\"]"
   ]
  },
  {
   "cell_type": "code",
   "execution_count": 91,
   "id": "5fe8e9d3-fc0b-4ec6-a049-949a52717cb9",
   "metadata": {},
   "outputs": [
    {
     "name": "stdout",
     "output_type": "stream",
     "text": [
      "1\n",
      "2\n",
      "3\n",
      "4\n",
      "5\n"
     ]
    }
   ],
   "source": [
    "# loop\n",
    "for x in dic:\n",
    "    print(x)"
   ]
  },
  {
   "cell_type": "code",
   "execution_count": 93,
   "id": "3da5201b-2fdb-4aab-8b2f-d4f4c179a28c",
   "metadata": {},
   "outputs": [
    {
     "name": "stdout",
     "output_type": "stream",
     "text": [
      "Apple\n",
      "Banana\n",
      "Fig\n",
      "Orange\n",
      "Pear\n"
     ]
    }
   ],
   "source": [
    "# loop through key values\n",
    "for x in dic.values():\n",
    "    print(x)"
   ]
  },
  {
   "cell_type": "code",
   "execution_count": 95,
   "id": "470db2a3-3cb4-4c40-941a-73cceef9497d",
   "metadata": {},
   "outputs": [
    {
     "name": "stdout",
     "output_type": "stream",
     "text": [
      "('1', 'Apple')\n",
      "('2', 'Banana')\n",
      "('3', 'Fig')\n",
      "('4', 'Orange')\n",
      "('5', 'Pear')\n"
     ]
    }
   ],
   "source": [
    "# loop through both dictionary key and values\n",
    "for x in dic.items():\n",
    "    print(x)"
   ]
  },
  {
   "cell_type": "code",
   "execution_count": 97,
   "id": "b57cfeef-aaa7-4e15-9723-4473f4c7674e",
   "metadata": {},
   "outputs": [
    {
     "name": "stdout",
     "output_type": "stream",
     "text": [
      "{'1': 'Apple', '2': 'Banana', '3': 'Fig', '4': 'Orange', '5': 'Pear', '6': 'Kiwi'}\n"
     ]
    }
   ],
   "source": [
    "# item add to dictionary\n",
    "dic[\"6\"]=\"Kiwi\"\n",
    "print(dic)"
   ]
  },
  {
   "cell_type": "code",
   "execution_count": 102,
   "id": "a47effa4-5359-4bc9-96cf-a88bf92aa856",
   "metadata": {},
   "outputs": [
    {
     "name": "stdout",
     "output_type": "stream",
     "text": [
      "{'1': 'Apple', '2': 'Banana', '3': 'Mango', '4': 'Orange', '5': 'Pear', '6': 'Kiwi'}\n"
     ]
    }
   ],
   "source": [
    "# if same key gets different value then key's value gets updated\n",
    "dic[\"3\"]=\"Mango\"\n",
    "print(dic)"
   ]
  },
  {
   "cell_type": "markdown",
   "id": "5bcb5f40-0665-4e5b-86ca-5a042f03927d",
   "metadata": {},
   "source": [
    "### Nested Dictionary"
   ]
  },
  {
   "cell_type": "code",
   "execution_count": 104,
   "id": "186d0f29-8805-4692-a0de-35c775fffa53",
   "metadata": {},
   "outputs": [
    {
     "name": "stdout",
     "output_type": "stream",
     "text": [
      "{'fruit1': {'Apple': 38}, 'fruit2': {'Mango': 25}, 'fruit3': {'Banana': 46}}\n"
     ]
    }
   ],
   "source": [
    "fruit1_value={'Apple':38}\n",
    "fruit2_value={'Mango':25}\n",
    "fruit3_value={'Banana':46}\n",
    "\n",
    "fruit_type={'fruit1':fruit1_value,'fruit2':fruit2_value,'fruit3':fruit3_value}\n",
    "print(fruit_type)"
   ]
  },
  {
   "cell_type": "code",
   "execution_count": 106,
   "id": "d3759c86-8bc4-4123-8440-97a0cd3a2a0c",
   "metadata": {},
   "outputs": [
    {
     "name": "stdout",
     "output_type": "stream",
     "text": [
      "{'Mango': 25}\n"
     ]
    }
   ],
   "source": [
    "print(fruit_type['fruit2'])"
   ]
  },
  {
   "cell_type": "code",
   "execution_count": 108,
   "id": "ddba9260-4819-4c75-a60f-24a0d228aafa",
   "metadata": {},
   "outputs": [
    {
     "name": "stdout",
     "output_type": "stream",
     "text": [
      "46\n"
     ]
    }
   ],
   "source": [
    "print(fruit_type['fruit3']['Banana'])"
   ]
  },
  {
   "cell_type": "markdown",
   "id": "0f451a19-cb80-4966-8c1a-c2fed047cd68",
   "metadata": {},
   "source": [
    "# Tuples"
   ]
  },
  {
   "cell_type": "code",
   "execution_count": 115,
   "id": "697d09a0-d51e-4b2e-9674-8e0def226be1",
   "metadata": {},
   "outputs": [
    {
     "data": {
      "text/plain": [
       "tuple"
      ]
     },
     "execution_count": 115,
     "metadata": {},
     "output_type": "execute_result"
    }
   ],
   "source": [
    "new_tuple=tuple()\n",
    "type(newtuple)"
   ]
  },
  {
   "cell_type": "code",
   "execution_count": 119,
   "id": "e18e550d-f8fc-471e-b777-7f67cfb163a3",
   "metadata": {},
   "outputs": [
    {
     "name": "stdout",
     "output_type": "stream",
     "text": [
      "()\n"
     ]
    }
   ],
   "source": [
    "tup=()\n",
    "type(tup)\n",
    "print(tup)"
   ]
  },
  {
   "cell_type": "code",
   "execution_count": 129,
   "id": "b58b4d6c-75b9-4152-ae24-9dfc0d6ede0b",
   "metadata": {},
   "outputs": [
    {
     "name": "stdout",
     "output_type": "stream",
     "text": [
      "('Apple', 'Grape', 'Mango', 'Orange')\n"
     ]
    }
   ],
   "source": [
    "tup=('Apple','Grape','Mango','Orange')\n",
    "type(tup)\n",
    "print(tup)"
   ]
  },
  {
   "cell_type": "code",
   "execution_count": 131,
   "id": "21ddd057-469b-4ebe-8704-0c9650a8279c",
   "metadata": {},
   "outputs": [
    {
     "data": {
      "text/plain": [
       "'Mango'"
      ]
     },
     "execution_count": 131,
     "metadata": {},
     "output_type": "execute_result"
    }
   ],
   "source": [
    "tup[2]"
   ]
  },
  {
   "cell_type": "code",
   "execution_count": null,
   "id": "67c27d33-1daf-4e1e-a66e-c3d3c5b4439d",
   "metadata": {},
   "outputs": [],
   "source": [
    "# As it is immutable tuple cannot be changed\n",
    "# tup[2]='Kiwi'"
   ]
  },
  {
   "cell_type": "code",
   "execution_count": 133,
   "id": "6d77e817-17b8-4330-9408-bbea325d8c45",
   "metadata": {},
   "outputs": [
    {
     "name": "stdout",
     "output_type": "stream",
     "text": [
      "<class 'tuple'>\n"
     ]
    }
   ],
   "source": [
    "print(type(tup))"
   ]
  },
  {
   "cell_type": "markdown",
   "id": "436918d0-cd25-425d-8e38-c553b17b0837",
   "metadata": {},
   "source": [
    "### Inbuilt Function"
   ]
  },
  {
   "cell_type": "code",
   "execution_count": 140,
   "id": "82c511b3-4eb4-4e6f-a950-9e651e230a00",
   "metadata": {},
   "outputs": [
    {
     "data": {
      "text/plain": [
       "2"
      ]
     },
     "execution_count": 140,
     "metadata": {},
     "output_type": "execute_result"
    }
   ],
   "source": [
    "tup=('Apple','Grape','Mango','Orange','Apple')\n",
    "tup.count('Apple')"
   ]
  },
  {
   "cell_type": "code",
   "execution_count": null,
   "id": "c0723abc-5698-4f8d-a3af-1cd7635e4846",
   "metadata": {},
   "outputs": [],
   "source": []
  }
 ],
 "metadata": {
  "kernelspec": {
   "display_name": "Python 3 (ipykernel)",
   "language": "python",
   "name": "python3"
  },
  "language_info": {
   "codemirror_mode": {
    "name": "ipython",
    "version": 3
   },
   "file_extension": ".py",
   "mimetype": "text/x-python",
   "name": "python",
   "nbconvert_exporter": "python",
   "pygments_lexer": "ipython3",
   "version": "3.12.4"
  }
 },
 "nbformat": 4,
 "nbformat_minor": 5
}

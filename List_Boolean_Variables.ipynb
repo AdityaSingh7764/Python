{
 "cells": [
  {
   "cell_type": "markdown",
   "id": "67ac395a-6108-465b-a92b-6cb34714282f",
   "metadata": {},
   "source": [
    "# Python Data Structure and Boolean\n",
    "\n",
    "- Boolean\n",
    "- Boolean and Logical Operators\n",
    "- Lists\n",
    "- Comparison Operators\n",
    "- Dictionaries\n",
    "- Tuples\n",
    "- Sets"
   ]
  },
  {
   "cell_type": "markdown",
   "id": "276b2c9e-7c49-4590-a8e6-d0a59842f6c0",
   "metadata": {},
   "source": [
    "## Boolean Variable"
   ]
  },
  {
   "cell_type": "code",
   "execution_count": 291,
   "id": "f404fea7-389f-47b7-81c7-b70d3197f639",
   "metadata": {},
   "outputs": [
    {
     "name": "stdout",
     "output_type": "stream",
     "text": [
      "True False\n"
     ]
    }
   ],
   "source": [
    "print(True,False)"
   ]
  },
  {
   "cell_type": "code",
   "execution_count": 292,
   "id": "8d4d6edc-c33d-4c56-84d9-4217f60e0e19",
   "metadata": {},
   "outputs": [
    {
     "data": {
      "text/plain": [
       "bool"
      ]
     },
     "execution_count": 292,
     "metadata": {},
     "output_type": "execute_result"
    }
   ],
   "source": [
    "type(True)"
   ]
  },
  {
   "cell_type": "code",
   "execution_count": 293,
   "id": "30284f5d-77e9-41ea-995b-caee1e0fefe1",
   "metadata": {},
   "outputs": [
    {
     "data": {
      "text/plain": [
       "True"
      ]
     },
     "execution_count": 293,
     "metadata": {},
     "output_type": "execute_result"
    }
   ],
   "source": [
    "True"
   ]
  },
  {
   "cell_type": "code",
   "execution_count": 294,
   "id": "816266da-f7e6-4df8-9e06-a2e7978a14f3",
   "metadata": {},
   "outputs": [
    {
     "data": {
      "text/plain": [
       "False"
      ]
     },
     "execution_count": 294,
     "metadata": {},
     "output_type": "execute_result"
    }
   ],
   "source": [
    "False"
   ]
  },
  {
   "cell_type": "code",
   "execution_count": 295,
   "id": "cc4bdfec-300a-48d9-912a-8abd40ea588c",
   "metadata": {},
   "outputs": [],
   "source": [
    "Str=\"Aditya_Singh\""
   ]
  },
  {
   "cell_type": "code",
   "execution_count": 296,
   "id": "6b93a870-ca12-409d-a100-b011636e0999",
   "metadata": {},
   "outputs": [
    {
     "name": "stdout",
     "output_type": "stream",
     "text": [
      "False\n",
      "False\n",
      "False\n",
      "True\n",
      "False\n",
      "False\n",
      "False\n",
      "True\n",
      "False\n"
     ]
    }
   ],
   "source": [
    "print(Str.isalnum()) #check if all char are numbers\n",
    "print(Str.isalpha()) #check if all char are alphabets\n",
    "print(Str.isdigit()) #check if string contain digits\n",
    "print(Str.istitle()) #check if the string contain title words\n",
    "print(Str.isupper()) #check if the string is upper case\n",
    "print(Str.islower()) #check if the string is lower case\n",
    "print(Str.isspace()) #check if the string contains spaces\n",
    "print(Str.endswith('h')) #check if the string ends with char h\n",
    "print(Str.startswith('d')) #check if the string starts with char d"
   ]
  },
  {
   "cell_type": "markdown",
   "id": "6cab88a9-a710-4008-94e0-541153bd5784",
   "metadata": {},
   "source": [
    "#### Boolean and Logical Operators"
   ]
  },
  {
   "cell_type": "code",
   "execution_count": 298,
   "id": "857e1e08-1985-456d-bef1-e8d517cbf3af",
   "metadata": {},
   "outputs": [
    {
     "data": {
      "text/plain": [
       "False"
      ]
     },
     "execution_count": 298,
     "metadata": {},
     "output_type": "execute_result"
    }
   ],
   "source": [
    "True and False"
   ]
  },
  {
   "cell_type": "code",
   "execution_count": 299,
   "id": "bed2fe1b-5ea4-4b89-94fa-c16e3f90e097",
   "metadata": {},
   "outputs": [
    {
     "data": {
      "text/plain": [
       "True"
      ]
     },
     "execution_count": 299,
     "metadata": {},
     "output_type": "execute_result"
    }
   ],
   "source": [
    "True and True"
   ]
  },
  {
   "cell_type": "code",
   "execution_count": 300,
   "id": "f2b478a5-6c9c-4f80-af65-8920cc384a79",
   "metadata": {},
   "outputs": [
    {
     "data": {
      "text/plain": [
       "True"
      ]
     },
     "execution_count": 300,
     "metadata": {},
     "output_type": "execute_result"
    }
   ],
   "source": [
    "True or False"
   ]
  },
  {
   "cell_type": "code",
   "execution_count": 301,
   "id": "11f36dc8-2470-4458-af11-c7782d28419d",
   "metadata": {},
   "outputs": [
    {
     "data": {
      "text/plain": [
       "True"
      ]
     },
     "execution_count": 301,
     "metadata": {},
     "output_type": "execute_result"
    }
   ],
   "source": [
    "True or False"
   ]
  },
  {
   "cell_type": "code",
   "execution_count": 302,
   "id": "79bbd73b-5cdc-408e-b5e6-397cfa705498",
   "metadata": {},
   "outputs": [
    {
     "data": {
      "text/plain": [
       "False"
      ]
     },
     "execution_count": 302,
     "metadata": {},
     "output_type": "execute_result"
    }
   ],
   "source": [
    "False or False"
   ]
  },
  {
   "cell_type": "code",
   "execution_count": 303,
   "id": "2fcfe230-bc3a-4532-bb70-74ffdb8ae59c",
   "metadata": {},
   "outputs": [
    {
     "data": {
      "text/plain": [
       "True"
      ]
     },
     "execution_count": 303,
     "metadata": {},
     "output_type": "execute_result"
    }
   ],
   "source": [
    "Str.isalnum() or Str.istitle()"
   ]
  },
  {
   "cell_type": "code",
   "execution_count": 304,
   "id": "a95a09fe-4693-4840-8a27-759dad90050a",
   "metadata": {},
   "outputs": [
    {
     "data": {
      "text/plain": [
       "False"
      ]
     },
     "execution_count": 304,
     "metadata": {},
     "output_type": "execute_result"
    }
   ],
   "source": [
    "Str.isalnum() and Str.istitle()"
   ]
  },
  {
   "cell_type": "markdown",
   "id": "89829543-b541-4279-9f47-0ed4bea1387b",
   "metadata": {},
   "source": [
    "## List"
   ]
  },
  {
   "cell_type": "code",
   "execution_count": 306,
   "id": "c65fe410-72ed-45b9-9411-bcc4b5a68381",
   "metadata": {},
   "outputs": [],
   "source": [
    "List=[]"
   ]
  },
  {
   "cell_type": "code",
   "execution_count": 307,
   "id": "52192e36-c0a2-4a5f-b71e-70042fb1b37c",
   "metadata": {},
   "outputs": [
    {
     "data": {
      "text/plain": [
       "list"
      ]
     },
     "execution_count": 307,
     "metadata": {},
     "output_type": "execute_result"
    }
   ],
   "source": [
    "type(List)"
   ]
  },
  {
   "cell_type": "code",
   "execution_count": 308,
   "id": "3c53622c-3127-41ce-a309-5c01765bc707",
   "metadata": {},
   "outputs": [],
   "source": [
    "list=[\"maths\",\"english\",8.56,6,8,True]"
   ]
  },
  {
   "cell_type": "code",
   "execution_count": 309,
   "id": "ec3e92b6-d137-47f4-8d2c-c36a74446f94",
   "metadata": {},
   "outputs": [
    {
     "data": {
      "text/plain": [
       "list"
      ]
     },
     "execution_count": 309,
     "metadata": {},
     "output_type": "execute_result"
    }
   ],
   "source": [
    "type(list)"
   ]
  },
  {
   "cell_type": "code",
   "execution_count": 310,
   "id": "a3b38364-8307-4786-ba79-e103f188ffb7",
   "metadata": {},
   "outputs": [
    {
     "data": {
      "text/plain": [
       "6"
      ]
     },
     "execution_count": 310,
     "metadata": {},
     "output_type": "execute_result"
    }
   ],
   "source": [
    "len(list)"
   ]
  },
  {
   "cell_type": "markdown",
   "id": "fa349529-9ec0-4a3d-a6d1-bbad892fe954",
   "metadata": {},
   "source": [
    "#### Append"
   ]
  },
  {
   "cell_type": "code",
   "execution_count": 312,
   "id": "06ae0941-5c66-4266-8515-560a340420a5",
   "metadata": {},
   "outputs": [],
   "source": [
    "list.append(\"Aditya\")"
   ]
  },
  {
   "cell_type": "code",
   "execution_count": 313,
   "id": "1ff9f37a-93b0-4274-872c-49becc4c12c2",
   "metadata": {},
   "outputs": [],
   "source": [
    "list.append([\"Riya\",\"Sakshi\"])"
   ]
  },
  {
   "cell_type": "code",
   "execution_count": 314,
   "id": "6f2ae46b-740e-4b73-a059-b59489e0257a",
   "metadata": {},
   "outputs": [
    {
     "data": {
      "text/plain": [
       "['maths', 'english', 8.56, 6, 8, True, 'Aditya', ['Riya', 'Sakshi']]"
      ]
     },
     "execution_count": 314,
     "metadata": {},
     "output_type": "execute_result"
    }
   ],
   "source": [
    "list"
   ]
  },
  {
   "cell_type": "code",
   "execution_count": 315,
   "id": "c9e9b5e7-8367-47dc-97ab-d857b1548d5e",
   "metadata": {},
   "outputs": [
    {
     "data": {
      "text/plain": [
       "'maths'"
      ]
     },
     "execution_count": 315,
     "metadata": {},
     "output_type": "execute_result"
    }
   ],
   "source": [
    "list[0]"
   ]
  },
  {
   "cell_type": "code",
   "execution_count": 316,
   "id": "6c5a2f9d-5b6c-4c00-a2c5-7941f1205bb3",
   "metadata": {},
   "outputs": [
    {
     "data": {
      "text/plain": [
       "True"
      ]
     },
     "execution_count": 316,
     "metadata": {},
     "output_type": "execute_result"
    }
   ],
   "source": [
    "list[5]"
   ]
  },
  {
   "cell_type": "code",
   "execution_count": 317,
   "id": "7e406371-23c6-4a70-b227-6b6731b5a811",
   "metadata": {},
   "outputs": [
    {
     "data": {
      "text/plain": [
       "['maths', 'english', 8.56, 6, 8, True, 'Aditya', ['Riya', 'Sakshi']]"
      ]
     },
     "execution_count": 317,
     "metadata": {},
     "output_type": "execute_result"
    }
   ],
   "source": [
    "list[:]"
   ]
  },
  {
   "cell_type": "code",
   "execution_count": 318,
   "id": "991e1793-5f77-40de-ba6d-7e197072888b",
   "metadata": {},
   "outputs": [
    {
     "data": {
      "text/plain": [
       "[8.56, 6, 8, True, 'Aditya', ['Riya', 'Sakshi']]"
      ]
     },
     "execution_count": 318,
     "metadata": {},
     "output_type": "execute_result"
    }
   ],
   "source": [
    "list[2:]"
   ]
  },
  {
   "cell_type": "code",
   "execution_count": 319,
   "id": "d0927d42-3c81-419e-b921-ff077f18fa02",
   "metadata": {},
   "outputs": [
    {
     "data": {
      "text/plain": [
       "['english', 8.56]"
      ]
     },
     "execution_count": 319,
     "metadata": {},
     "output_type": "execute_result"
    }
   ],
   "source": [
    "list[1:3]"
   ]
  },
  {
   "cell_type": "markdown",
   "id": "e799af23-d7f8-4283-8870-a647c986e17c",
   "metadata": {},
   "source": [
    "#### Insert"
   ]
  },
  {
   "cell_type": "code",
   "execution_count": 321,
   "id": "3c947c41-b090-4701-9ba1-4cfa08df2e0c",
   "metadata": {},
   "outputs": [],
   "source": [
    "list.insert(1,'physics')"
   ]
  },
  {
   "cell_type": "code",
   "execution_count": 322,
   "id": "7e8e0ace-e9a0-43b0-a167-335156c21012",
   "metadata": {},
   "outputs": [
    {
     "data": {
      "text/plain": [
       "['maths', 'physics', 'english', 8.56, 6, 8, True, 'Aditya', ['Riya', 'Sakshi']]"
      ]
     },
     "execution_count": 322,
     "metadata": {},
     "output_type": "execute_result"
    }
   ],
   "source": [
    "list"
   ]
  },
  {
   "cell_type": "code",
   "execution_count": 323,
   "id": "acfb4273-cc24-47ff-8709-2cd9cbaaa8dc",
   "metadata": {},
   "outputs": [],
   "source": [
    "list.append([\"Hello\",\"World\"])"
   ]
  },
  {
   "cell_type": "code",
   "execution_count": 324,
   "id": "ef7d1b61-55e1-4bfe-b791-42a9ec0bd9fc",
   "metadata": {},
   "outputs": [
    {
     "data": {
      "text/plain": [
       "['maths',\n",
       " 'physics',\n",
       " 'english',\n",
       " 8.56,\n",
       " 6,\n",
       " 8,\n",
       " True,\n",
       " 'Aditya',\n",
       " ['Riya', 'Sakshi'],\n",
       " ['Hello', 'World']]"
      ]
     },
     "execution_count": 324,
     "metadata": {},
     "output_type": "execute_result"
    }
   ],
   "source": [
    "list"
   ]
  },
  {
   "cell_type": "markdown",
   "id": "f42db25c-f48c-4d4e-aab7-29807214983f",
   "metadata": {},
   "source": [
    "#### Extend Method"
   ]
  },
  {
   "cell_type": "code",
   "execution_count": 326,
   "id": "546719ca-054e-49d5-9915-cf2a16744b96",
   "metadata": {},
   "outputs": [],
   "source": [
    "list.extend([6,8])"
   ]
  },
  {
   "cell_type": "code",
   "execution_count": 327,
   "id": "0772cbfd-a889-4f84-a668-434cd5bc49f7",
   "metadata": {},
   "outputs": [
    {
     "data": {
      "text/plain": [
       "['maths',\n",
       " 'physics',\n",
       " 'english',\n",
       " 8.56,\n",
       " 6,\n",
       " 8,\n",
       " True,\n",
       " 'Aditya',\n",
       " ['Riya', 'Sakshi'],\n",
       " ['Hello', 'World'],\n",
       " 6,\n",
       " 8]"
      ]
     },
     "execution_count": 327,
     "metadata": {},
     "output_type": "execute_result"
    }
   ],
   "source": [
    "list"
   ]
  },
  {
   "cell_type": "markdown",
   "id": "e68367d6-5bad-4189-97e4-963adee4c142",
   "metadata": {},
   "source": [
    "#### Various Operations that we can perform in List"
   ]
  },
  {
   "cell_type": "code",
   "execution_count": 329,
   "id": "afb8fdf5-09ce-4b6a-8e71-ad134113d9f8",
   "metadata": {},
   "outputs": [],
   "source": [
    "lst=[1,2,3,4,5]"
   ]
  },
  {
   "cell_type": "code",
   "execution_count": 330,
   "id": "dcc41884-7c80-437b-883d-f55cca07c495",
   "metadata": {},
   "outputs": [
    {
     "data": {
      "text/plain": [
       "15"
      ]
     },
     "execution_count": 330,
     "metadata": {},
     "output_type": "execute_result"
    }
   ],
   "source": [
    "sum(lst)"
   ]
  },
  {
   "cell_type": "code",
   "execution_count": 331,
   "id": "dad86927-76b3-40e6-bbe2-24efb8e1eaa6",
   "metadata": {},
   "outputs": [
    {
     "data": {
      "text/plain": [
       "[1, 2, 3, 4, 5, 1, 2, 3, 4, 5]"
      ]
     },
     "execution_count": 331,
     "metadata": {},
     "output_type": "execute_result"
    }
   ],
   "source": [
    "lst*2"
   ]
  },
  {
   "cell_type": "markdown",
   "id": "d7725bba-41db-49bf-ac2e-f86ff79b00d2",
   "metadata": {},
   "source": [
    "#### Pop()"
   ]
  },
  {
   "cell_type": "code",
   "execution_count": 333,
   "id": "738481eb-9232-48e0-a77a-fa06455633ac",
   "metadata": {},
   "outputs": [
    {
     "data": {
      "text/plain": [
       "5"
      ]
     },
     "execution_count": 333,
     "metadata": {},
     "output_type": "execute_result"
    }
   ],
   "source": [
    "lst.pop()"
   ]
  },
  {
   "cell_type": "code",
   "execution_count": 334,
   "id": "59a6c008-19d0-45c3-b024-a46c5e10c243",
   "metadata": {},
   "outputs": [
    {
     "data": {
      "text/plain": [
       "[1, 2, 3, 4]"
      ]
     },
     "execution_count": 334,
     "metadata": {},
     "output_type": "execute_result"
    }
   ],
   "source": [
    "lst"
   ]
  },
  {
   "cell_type": "code",
   "execution_count": 335,
   "id": "24acc634-210c-4db7-a0f2-2dc3d104baa9",
   "metadata": {},
   "outputs": [
    {
     "data": {
      "text/plain": [
       "3"
      ]
     },
     "execution_count": 335,
     "metadata": {},
     "output_type": "execute_result"
    }
   ],
   "source": [
    "lst.pop(2)"
   ]
  },
  {
   "cell_type": "code",
   "execution_count": 336,
   "id": "3fc6b112-65ba-446b-b0df-822a822535d5",
   "metadata": {},
   "outputs": [
    {
     "data": {
      "text/plain": [
       "[1, 2, 4]"
      ]
     },
     "execution_count": 336,
     "metadata": {},
     "output_type": "execute_result"
    }
   ],
   "source": [
    "lst"
   ]
  },
  {
   "cell_type": "markdown",
   "id": "dd65aba4-b6c2-4d1b-b5e8-6d0a8cade108",
   "metadata": {},
   "source": [
    "#### Count()"
   ]
  },
  {
   "cell_type": "code",
   "execution_count": 338,
   "id": "62f05d18-366e-44c3-97a4-4787f7df69d7",
   "metadata": {},
   "outputs": [],
   "source": [
    "lst=[1,2,3,4,5,2,4,3,4,5]"
   ]
  },
  {
   "cell_type": "code",
   "execution_count": 339,
   "id": "f658c30b-c9d1-4348-8bee-6b8b724aaf7e",
   "metadata": {},
   "outputs": [
    {
     "data": {
      "text/plain": [
       "2"
      ]
     },
     "execution_count": 339,
     "metadata": {},
     "output_type": "execute_result"
    }
   ],
   "source": [
    "lst.count(2)"
   ]
  },
  {
   "cell_type": "code",
   "execution_count": 340,
   "id": "8b960952-40d6-4d01-8775-6c2f2198cf8b",
   "metadata": {},
   "outputs": [
    {
     "data": {
      "text/plain": [
       "1"
      ]
     },
     "execution_count": 340,
     "metadata": {},
     "output_type": "execute_result"
    }
   ],
   "source": [
    "# returns the index of the value between 0 to 5 range\n",
    "lst.index(2,0,5)"
   ]
  },
  {
   "cell_type": "code",
   "execution_count": 341,
   "id": "bfb3d05b-58db-4e9c-9422-b7b8ecae50d6",
   "metadata": {},
   "outputs": [
    {
     "data": {
      "text/plain": [
       "1"
      ]
     },
     "execution_count": 341,
     "metadata": {},
     "output_type": "execute_result"
    }
   ],
   "source": [
    "# min value in the list\n",
    "min(lst)"
   ]
  },
  {
   "cell_type": "code",
   "execution_count": 342,
   "id": "2ad16b5a-dde8-40fb-b289-fe7c665e09c6",
   "metadata": {},
   "outputs": [
    {
     "data": {
      "text/plain": [
       "5"
      ]
     },
     "execution_count": 342,
     "metadata": {},
     "output_type": "execute_result"
    }
   ],
   "source": [
    "max(lst)"
   ]
  },
  {
   "cell_type": "code",
   "execution_count": null,
   "id": "8310fc04-5443-40c8-84ca-6b967c671b25",
   "metadata": {},
   "outputs": [],
   "source": []
  }
 ],
 "metadata": {
  "kernelspec": {
   "display_name": "Python 3 (ipykernel)",
   "language": "python",
   "name": "python3"
  },
  "language_info": {
   "codemirror_mode": {
    "name": "ipython",
    "version": 3
   },
   "file_extension": ".py",
   "mimetype": "text/x-python",
   "name": "python",
   "nbconvert_exporter": "python",
   "pygments_lexer": "ipython3",
   "version": "3.12.4"
  }
 },
 "nbformat": 4,
 "nbformat_minor": 5
}
